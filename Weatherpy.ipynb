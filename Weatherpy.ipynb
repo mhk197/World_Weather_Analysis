{
 "cells": [
  {
   "cell_type": "code",
   "execution_count": 30,
   "metadata": {},
   "outputs": [],
   "source": [
    "# Import Dependencies\n",
    "import pandas as pd\n",
    "import numpy as np\n",
    "import matplotlib.pyplot as plt\n",
    "from citipy import citipy\n",
    "from datetime import datetime"
   ]
  },
  {
   "cell_type": "code",
   "execution_count": 33,
   "metadata": {},
   "outputs": [],
   "source": [
    "# Create list of 1500 random latitude and longitude combinations\n",
    "lats = np.random.uniform(-90.,90.,size = 1500)\n",
    "longs = np.random.uniform(-180.,180.,size = 1500)\n",
    "lats_longs = zip(lats,longs)\n",
    "coordinates = list(lats_longs)"
   ]
  },
  {
   "cell_type": "code",
   "execution_count": 34,
   "metadata": {},
   "outputs": [
    {
     "data": {
      "text/plain": "631"
     },
     "execution_count": 34,
     "metadata": {},
     "output_type": "execute_result"
    }
   ],
   "source": [
    "# Create list of cities based on random latitude and longitude combinations\n",
    "cities = []\n",
    "for coordinate in coordinates:\n",
    "    city = citipy.nearest_city(coordinate[0],coordinate[1]).city_name\n",
    "\n",
    "    if city not in cities:\n",
    "        cities.append(city)\n",
    "\n",
    "# How many cities in list\n",
    "len(cities)"
   ]
  },
  {
   "cell_type": "code",
   "execution_count": 8,
   "metadata": {},
   "outputs": [],
   "source": [
    "# Import API-related library and API key for openweathermap.com\n",
    "import requests\n",
    "from config import weather_api_key"
   ]
  },
  {
   "cell_type": "code",
   "execution_count": 20,
   "metadata": {},
   "outputs": [],
   "source": [
    "# Construct base url to access city weather from openweathermap.com\n",
    "url = \"http://api.openweathermap.org/data/2.5/weather?units=Imperial&APPID=\" + weather_api_key"
   ]
  },
  {
   "cell_type": "code",
   "execution_count": null,
   "metadata": {},
   "outputs": [],
   "source": [
    "# Initialize list to contain city weather data\n",
    "city_data = []\n",
    "\n",
    "# For logging purposes\n",
    "print(\"Beginning Data Retrieval       \")\n",
    "print(\"-------------------------------\")\n",
    "\n",
    "record_count = 1\n",
    "set_count = 1\n",
    "\n",
    "# Fill city_data list\n",
    "for i, city in enumerate(cities):\n",
    "    # For logging purposes\n",
    "    if(i%50 == 0 and i >= 50):\n",
    "        set_count += 1\n",
    "        record_count = 1\n",
    "\n",
    "    # Construct url to access weather data for each city\n",
    "    city_url = url + \"&q=\" + city.replace(\" \",\"+\")\n",
    "\n",
    "    # Logging\n",
    "    print(f\"Processing {record_count} of Set {set_count} | {city}\")\n",
    "    record_count +=1\n",
    "\n",
    "    try:\n",
    "        # Retrieve JSON data\n",
    "        city_weather = requests.get(city_url).json()\n",
    "        # Parse city data\n",
    "        city_lat = city_weather[\"coord\"][\"lat\"]\n",
    "        city_lon = city_weather[\"coord\"][\"lon\"]\n",
    "        city_max_temp = city_weather[\"main\"][\"temp_max\"]\n",
    "        city_min_temp = city_weather[\"main\"][\"temp_min\"]\n",
    "        city_humidity = city_weather[\"main\"][\"humidity\"]\n",
    "        city_clouds = city_weather[\"clouds\"][\"all\"]\n",
    "        city_wind = city_weather[\"wind\"][\"speed\"]\n",
    "        city_country = city_weather[\"sys\"][\"country\"]\n",
    "        # Convert date into ISO standard\n",
    "        city_date = datetime.utcfromtimestamp(city_weather[\"dt\"]).strftime(\"%Y-%m-%d %H-%M-$S\")\n",
    "        # Append data to city_data list\n",
    "        city_data.append({\"City\": city.title(),\n",
    "                          \"Lat\": city_lat,\n",
    "                          \"Lng\": city_lon,\n",
    "                          \"Max Temp\": city_max_temp,\n",
    "                          \"Min Temp\": city_min_temp,\n",
    "                          \"Humidity\": city_humidity,\n",
    "                          \"Cloudiness\": city_clouds,\n",
    "                          \"Wind Speed\": city_wind,\n",
    "                          \"Country\": city_country,\n",
    "                          \"Date\": city_date})\n",
    "    # If error encountered in retrieving city weather data, log and continue\n",
    "    except:\n",
    "        print(\"City not found. Skipping...\")\n",
    "        pass\n",
    "print(\"-------------------------------\")\n",
    "print(\"Data Retrieval Complete        \")\n",
    "print(\"-------------------------------\")"
   ]
  },
  {
   "cell_type": "code",
   "execution_count": 42,
   "metadata": {},
   "outputs": [
    {
     "data": {
      "text/html": "<div>\n<style scoped>\n    .dataframe tbody tr th:only-of-type {\n        vertical-align: middle;\n    }\n\n    .dataframe tbody tr th {\n        vertical-align: top;\n    }\n\n    .dataframe thead th {\n        text-align: right;\n    }\n</style>\n<table border=\"1\" class=\"dataframe\">\n  <thead>\n    <tr style=\"text-align: right;\">\n      <th></th>\n      <th>City</th>\n      <th>Lat</th>\n      <th>Lng</th>\n      <th>Max Temp</th>\n      <th>Min Temp</th>\n      <th>Humidity</th>\n      <th>Cloudiness</th>\n      <th>Wind Speed</th>\n      <th>Country</th>\n      <th>Date</th>\n    </tr>\n  </thead>\n  <tbody>\n    <tr>\n      <th>0</th>\n      <td>Busselton</td>\n      <td>-33.6500</td>\n      <td>115.3333</td>\n      <td>45.09</td>\n      <td>45.05</td>\n      <td>74</td>\n      <td>0</td>\n      <td>9.33</td>\n      <td>AU</td>\n      <td>2021-09-05 19-39-$S</td>\n    </tr>\n    <tr>\n      <th>1</th>\n      <td>Laguna</td>\n      <td>38.4210</td>\n      <td>-121.4238</td>\n      <td>99.25</td>\n      <td>85.33</td>\n      <td>24</td>\n      <td>1</td>\n      <td>1.99</td>\n      <td>US</td>\n      <td>2021-09-05 19-39-$S</td>\n    </tr>\n    <tr>\n      <th>2</th>\n      <td>Nanakuli</td>\n      <td>21.3906</td>\n      <td>-158.1547</td>\n      <td>82.35</td>\n      <td>79.97</td>\n      <td>61</td>\n      <td>1</td>\n      <td>9.22</td>\n      <td>US</td>\n      <td>2021-09-05 19-39-$S</td>\n    </tr>\n    <tr>\n      <th>3</th>\n      <td>Udachnyy</td>\n      <td>66.4167</td>\n      <td>112.4000</td>\n      <td>47.16</td>\n      <td>47.16</td>\n      <td>80</td>\n      <td>12</td>\n      <td>7.92</td>\n      <td>RU</td>\n      <td>2021-09-05 19-39-$S</td>\n    </tr>\n    <tr>\n      <th>4</th>\n      <td>Rikitea</td>\n      <td>-23.1203</td>\n      <td>-134.9692</td>\n      <td>74.28</td>\n      <td>74.28</td>\n      <td>74</td>\n      <td>82</td>\n      <td>13.56</td>\n      <td>PF</td>\n      <td>2021-09-05 19-39-$S</td>\n    </tr>\n    <tr>\n      <th>5</th>\n      <td>Kapaa</td>\n      <td>22.0752</td>\n      <td>-159.3190</td>\n      <td>82.72</td>\n      <td>80.11</td>\n      <td>69</td>\n      <td>40</td>\n      <td>4.00</td>\n      <td>US</td>\n      <td>2021-09-05 19-39-$S</td>\n    </tr>\n    <tr>\n      <th>6</th>\n      <td>Porbandar</td>\n      <td>21.6422</td>\n      <td>69.6093</td>\n      <td>80.46</td>\n      <td>80.46</td>\n      <td>87</td>\n      <td>79</td>\n      <td>8.75</td>\n      <td>IN</td>\n      <td>2021-09-05 19-39-$S</td>\n    </tr>\n    <tr>\n      <th>7</th>\n      <td>Poso</td>\n      <td>-1.3959</td>\n      <td>120.7524</td>\n      <td>76.01</td>\n      <td>76.01</td>\n      <td>89</td>\n      <td>100</td>\n      <td>5.14</td>\n      <td>ID</td>\n      <td>2021-09-05 19-39-$S</td>\n    </tr>\n    <tr>\n      <th>8</th>\n      <td>Vaini</td>\n      <td>-21.2000</td>\n      <td>-175.2000</td>\n      <td>73.56</td>\n      <td>73.56</td>\n      <td>100</td>\n      <td>90</td>\n      <td>5.75</td>\n      <td>TO</td>\n      <td>2021-09-05 19-39-$S</td>\n    </tr>\n    <tr>\n      <th>9</th>\n      <td>Umba</td>\n      <td>66.6871</td>\n      <td>34.3429</td>\n      <td>39.69</td>\n      <td>39.69</td>\n      <td>72</td>\n      <td>78</td>\n      <td>10.85</td>\n      <td>RU</td>\n      <td>2021-09-05 19-39-$S</td>\n    </tr>\n  </tbody>\n</table>\n</div>",
      "text/plain": "        City      Lat       Lng  Max Temp  Min Temp  Humidity  Cloudiness  \\\n0  Busselton -33.6500  115.3333     45.09     45.05        74           0   \n1     Laguna  38.4210 -121.4238     99.25     85.33        24           1   \n2   Nanakuli  21.3906 -158.1547     82.35     79.97        61           1   \n3   Udachnyy  66.4167  112.4000     47.16     47.16        80          12   \n4    Rikitea -23.1203 -134.9692     74.28     74.28        74          82   \n5      Kapaa  22.0752 -159.3190     82.72     80.11        69          40   \n6  Porbandar  21.6422   69.6093     80.46     80.46        87          79   \n7       Poso  -1.3959  120.7524     76.01     76.01        89         100   \n8      Vaini -21.2000 -175.2000     73.56     73.56       100          90   \n9       Umba  66.6871   34.3429     39.69     39.69        72          78   \n\n   Wind Speed Country                 Date  \n0        9.33      AU  2021-09-05 19-39-$S  \n1        1.99      US  2021-09-05 19-39-$S  \n2        9.22      US  2021-09-05 19-39-$S  \n3        7.92      RU  2021-09-05 19-39-$S  \n4       13.56      PF  2021-09-05 19-39-$S  \n5        4.00      US  2021-09-05 19-39-$S  \n6        8.75      IN  2021-09-05 19-39-$S  \n7        5.14      ID  2021-09-05 19-39-$S  \n8        5.75      TO  2021-09-05 19-39-$S  \n9       10.85      RU  2021-09-05 19-39-$S  "
     },
     "execution_count": 42,
     "metadata": {},
     "output_type": "execute_result"
    }
   ],
   "source": [
    "# Create dataframe from city_data list\n",
    "city_data_df = pd.DataFrame(city_data)\n",
    "city_data_df.head(10)"
   ]
  },
  {
   "cell_type": "code",
   "execution_count": 48,
   "metadata": {},
   "outputs": [
    {
     "data": {
      "text/html": "<div>\n<style scoped>\n    .dataframe tbody tr th:only-of-type {\n        vertical-align: middle;\n    }\n\n    .dataframe tbody tr th {\n        vertical-align: top;\n    }\n\n    .dataframe thead th {\n        text-align: right;\n    }\n</style>\n<table border=\"1\" class=\"dataframe\">\n  <thead>\n    <tr style=\"text-align: right;\">\n      <th></th>\n      <th>City</th>\n      <th>Country</th>\n      <th>Date</th>\n      <th>Lat</th>\n      <th>Lng</th>\n      <th>Max Temp</th>\n      <th>Humidity</th>\n      <th>Cloudiness</th>\n      <th>Wind Speed</th>\n    </tr>\n  </thead>\n  <tbody>\n    <tr>\n      <th>0</th>\n      <td>Busselton</td>\n      <td>AU</td>\n      <td>2021-09-05 19-39-$S</td>\n      <td>-33.6500</td>\n      <td>115.3333</td>\n      <td>45.09</td>\n      <td>74</td>\n      <td>0</td>\n      <td>9.33</td>\n    </tr>\n    <tr>\n      <th>1</th>\n      <td>Laguna</td>\n      <td>US</td>\n      <td>2021-09-05 19-39-$S</td>\n      <td>38.4210</td>\n      <td>-121.4238</td>\n      <td>99.25</td>\n      <td>24</td>\n      <td>1</td>\n      <td>1.99</td>\n    </tr>\n    <tr>\n      <th>2</th>\n      <td>Nanakuli</td>\n      <td>US</td>\n      <td>2021-09-05 19-39-$S</td>\n      <td>21.3906</td>\n      <td>-158.1547</td>\n      <td>82.35</td>\n      <td>61</td>\n      <td>1</td>\n      <td>9.22</td>\n    </tr>\n    <tr>\n      <th>3</th>\n      <td>Udachnyy</td>\n      <td>RU</td>\n      <td>2021-09-05 19-39-$S</td>\n      <td>66.4167</td>\n      <td>112.4000</td>\n      <td>47.16</td>\n      <td>80</td>\n      <td>12</td>\n      <td>7.92</td>\n    </tr>\n    <tr>\n      <th>4</th>\n      <td>Rikitea</td>\n      <td>PF</td>\n      <td>2021-09-05 19-39-$S</td>\n      <td>-23.1203</td>\n      <td>-134.9692</td>\n      <td>74.28</td>\n      <td>74</td>\n      <td>82</td>\n      <td>13.56</td>\n    </tr>\n    <tr>\n      <th>5</th>\n      <td>Kapaa</td>\n      <td>US</td>\n      <td>2021-09-05 19-39-$S</td>\n      <td>22.0752</td>\n      <td>-159.3190</td>\n      <td>82.72</td>\n      <td>69</td>\n      <td>40</td>\n      <td>4.00</td>\n    </tr>\n    <tr>\n      <th>6</th>\n      <td>Porbandar</td>\n      <td>IN</td>\n      <td>2021-09-05 19-39-$S</td>\n      <td>21.6422</td>\n      <td>69.6093</td>\n      <td>80.46</td>\n      <td>87</td>\n      <td>79</td>\n      <td>8.75</td>\n    </tr>\n    <tr>\n      <th>7</th>\n      <td>Poso</td>\n      <td>ID</td>\n      <td>2021-09-05 19-39-$S</td>\n      <td>-1.3959</td>\n      <td>120.7524</td>\n      <td>76.01</td>\n      <td>89</td>\n      <td>100</td>\n      <td>5.14</td>\n    </tr>\n    <tr>\n      <th>8</th>\n      <td>Vaini</td>\n      <td>TO</td>\n      <td>2021-09-05 19-39-$S</td>\n      <td>-21.2000</td>\n      <td>-175.2000</td>\n      <td>73.56</td>\n      <td>100</td>\n      <td>90</td>\n      <td>5.75</td>\n    </tr>\n    <tr>\n      <th>9</th>\n      <td>Umba</td>\n      <td>RU</td>\n      <td>2021-09-05 19-39-$S</td>\n      <td>66.6871</td>\n      <td>34.3429</td>\n      <td>39.69</td>\n      <td>72</td>\n      <td>78</td>\n      <td>10.85</td>\n    </tr>\n  </tbody>\n</table>\n</div>",
      "text/plain": "        City Country                 Date      Lat       Lng  Max Temp  \\\n0  Busselton      AU  2021-09-05 19-39-$S -33.6500  115.3333     45.09   \n1     Laguna      US  2021-09-05 19-39-$S  38.4210 -121.4238     99.25   \n2   Nanakuli      US  2021-09-05 19-39-$S  21.3906 -158.1547     82.35   \n3   Udachnyy      RU  2021-09-05 19-39-$S  66.4167  112.4000     47.16   \n4    Rikitea      PF  2021-09-05 19-39-$S -23.1203 -134.9692     74.28   \n5      Kapaa      US  2021-09-05 19-39-$S  22.0752 -159.3190     82.72   \n6  Porbandar      IN  2021-09-05 19-39-$S  21.6422   69.6093     80.46   \n7       Poso      ID  2021-09-05 19-39-$S  -1.3959  120.7524     76.01   \n8      Vaini      TO  2021-09-05 19-39-$S -21.2000 -175.2000     73.56   \n9       Umba      RU  2021-09-05 19-39-$S  66.6871   34.3429     39.69   \n\n   Humidity  Cloudiness  Wind Speed  \n0        74           0        9.33  \n1        24           1        1.99  \n2        61           1        9.22  \n3        80          12        7.92  \n4        74          82       13.56  \n5        69          40        4.00  \n6        87          79        8.75  \n7        89         100        5.14  \n8       100          90        5.75  \n9        72          78       10.85  "
     },
     "execution_count": 48,
     "metadata": {},
     "output_type": "execute_result"
    }
   ],
   "source": [
    "# Reorder df columns\n",
    "new_column_order = [\"City\", \"Country\", \"Date\", \"Lat\", \"Lng\", \"Max Temp\", \"Humidity\", \"Cloudiness\", \"Wind Speed\"]\n",
    "city_data_df = city_data_df[new_column_order]\n",
    "city_data_df.head(10)"
   ]
  },
  {
   "cell_type": "code",
   "execution_count": 50,
   "metadata": {},
   "outputs": [],
   "source": [
    "# Save df to CSV\n",
    "## Create output file\n",
    "output_data_file = \"weather_data/cities.csv\"\n",
    "## Export city_data_df to CSV\n",
    "city_data_df.to_csv(output_data_file, index_label = \"City_ID\")"
   ]
  }
 ],
 "metadata": {
  "kernelspec": {
   "display_name": "PythonData",
   "name": "pythondata"
  },
  "language_info": {
   "codemirror_mode": {
    "name": "ipython",
    "version": 3
   },
   "file_extension": ".py",
   "mimetype": "text/x-python",
   "name": "python",
   "nbconvert_exporter": "python",
   "pygments_lexer": "ipython3",
   "version": "3.7.10"
  },
  "orig_nbformat": 2
 },
 "nbformat": 4,
 "nbformat_minor": 2
}