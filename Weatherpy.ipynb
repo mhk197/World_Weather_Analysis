{
 "cells": [
  {
   "cell_type": "code",
   "execution_count": null,
   "metadata": {},
   "outputs": [],
   "source": [
    "import pandas as pd\n",
    "import numpy as np\n",
    "import matplotlib.pyplot as plt\n",
    "from citipy import citipy"
   ]
  },
  {
   "cell_type": "code",
   "execution_count": null,
   "metadata": {},
   "outputs": [],
   "source": [
    "lats = np.random.uniform(-90.,90.,size = 1500)\n",
    "longs = np.random.uniform(-180.,180.,size = 1500)\n",
    "lats_longs = zip(lats,longs)\n",
    "lats_longs"
   ]
  },
  {
   "cell_type": "code",
   "execution_count": null,
   "metadata": {},
   "outputs": [],
   "source": [
    "coordinates = list(lats_longs)"
   ]
  },
  {
   "cell_type": "code",
   "execution_count": null,
   "metadata": {},
   "outputs": [],
   "source": [
    "cities = []\n",
    "for coordinate in coordinates:\n",
    "    city = citipy.nearest_city(coordinate[0],coordinate[1])\n",
    "\n",
    "    if city not in cities:\n",
    "        cities.append(city)\n",
    "len(cities)"
   ]
  }
 ],
 "metadata": {
  "language_info": {
   "name": "python",
   "nbconvert_exporter": "python"
  },
  "orig_nbformat": 2
 },
 "nbformat": 4,
 "nbformat_minor": 2
}