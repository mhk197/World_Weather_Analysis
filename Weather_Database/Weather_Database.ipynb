{
 "cells": [
  {
   "cell_type": "code",
   "execution_count": 28,
   "metadata": {},
   "outputs": [],
   "source": [
    "# Import dependencies\n",
    "import requests\n",
    "import numpy as np\n",
    "import pandas as pd\n",
    "from citipy import citipy\n",
    "\n",
    "# Import OpenWeatherMap API key\n",
    "from config import weather_api_key"
   ]
  },
  {
   "cell_type": "code",
   "execution_count": 29,
   "metadata": {},
   "outputs": [],
   "source": [
    "# Create set of 2,000 random latitudes and longitudes\n",
    "lats = np.random.uniform(-90, 90, size = 2000)\n",
    "lngs = np.random.uniform(-180, 180, size = 2000)\n",
    "lats_lngs = zip(lats,lngs)\n",
    "coords = list(lats_lngs)"
   ]
  },
  {
   "cell_type": "code",
   "execution_count": 33,
   "metadata": {},
   "outputs": [],
   "source": [
    "# Get nearest city with citipy module\n",
    "cities = []\n",
    "for coord in coords:\n",
    "    city = citipy.nearest_city(coord[0],coord[1]).city_name\n",
    "\n",
    "    if city not in cities:\n",
    "        cities.append(city)"
   ]
  },
  {
   "cell_type": "code",
   "execution_count": 34,
   "metadata": {},
   "outputs": [],
   "source": [
    "# Construct base url to access city weather from OpenWeatherMap API\n",
    "url = \"http://api.openweathermap.org/data/2.5/weather?units=Imperial&APPID=\" + weather_api_key"
   ]
  },
  {
   "cell_type": "code",
   "execution_count": null,
   "metadata": {},
   "outputs": [],
   "source": [
    "# Retrive info from OpenWeatherMap API call\n",
    "\n",
    "# Initialize list to contain city weather data\n",
    "city_data = []\n",
    "\n",
    "# Fill city_data list\n",
    "for i, city in enumerate(cities):\n",
    "\n",
    "    # Construct url to access weather data for each city\n",
    "    city_url = url + \"&q=\" + city.replace(\" \",\"+\")\n",
    "\n",
    "    try:\n",
    "\n",
    "        # Retrieve JSON data\n",
    "        city_weather = requests.get(city_url).json()\n",
    "\n",
    "        # Parse city data\n",
    "        city_lat = city_weather[\"coord\"][\"lat\"]\n",
    "        city_lon = city_weather[\"coord\"][\"lon\"]\n",
    "        city_max_temp = city_weather[\"main\"][\"temp_max\"]\n",
    "        city_humidity = city_weather[\"main\"][\"humidity\"]\n",
    "        city_clouds = city_weather[\"clouds\"][\"all\"]\n",
    "        city_wind = city_weather[\"wind\"][\"speed\"]\n",
    "        city_description = city_weather[\"weather\"][0][\"description\"]\n",
    "        city_country = city_weather[\"sys\"][\"country\"]\n",
    "        \n",
    "        # Append data to city_data list\n",
    "        city_data.append({\"City\": city.title(),\n",
    "                          \"Country\": city_country,\n",
    "                          \"Lat\": city_lat,\n",
    "                          \"Lng\": city_lon,\n",
    "                          \"Max Temp\": city_max_temp,\n",
    "                          \"Humidity\": city_humidity,\n",
    "                          \"Cloudiness\": city_clouds,\n",
    "                          \"Wind Speed\": city_wind,\n",
    "                          \"Current Description\": city_description})\n",
    "\n",
    "    # If error encountered in retrieving city weather data, log and continue\n",
    "    except:\n",
    "        print(\"City not found. Skipping...\")\n",
    "        pass"
   ]
  },
  {
   "cell_type": "code",
   "execution_count": 36,
   "metadata": {},
   "outputs": [
    {
     "data": {
      "text/html": "<div>\n<style scoped>\n    .dataframe tbody tr th:only-of-type {\n        vertical-align: middle;\n    }\n\n    .dataframe tbody tr th {\n        vertical-align: top;\n    }\n\n    .dataframe thead th {\n        text-align: right;\n    }\n</style>\n<table border=\"1\" class=\"dataframe\">\n  <thead>\n    <tr style=\"text-align: right;\">\n      <th></th>\n      <th>City</th>\n      <th>Country</th>\n      <th>Lat</th>\n      <th>Lng</th>\n      <th>Max Temp</th>\n      <th>Humidity</th>\n      <th>Cloudiness</th>\n      <th>Wind Speed</th>\n      <th>Current Description</th>\n    </tr>\n  </thead>\n  <tbody>\n    <tr>\n      <th>0</th>\n      <td>Kathu</td>\n      <td>TH</td>\n      <td>7.9178</td>\n      <td>98.3332</td>\n      <td>87.62</td>\n      <td>63</td>\n      <td>57</td>\n      <td>5.28</td>\n      <td>broken clouds</td>\n    </tr>\n    <tr>\n      <th>1</th>\n      <td>Mahebourg</td>\n      <td>MU</td>\n      <td>-20.4081</td>\n      <td>57.7000</td>\n      <td>74.25</td>\n      <td>56</td>\n      <td>40</td>\n      <td>12.66</td>\n      <td>scattered clouds</td>\n    </tr>\n    <tr>\n      <th>2</th>\n      <td>Rikitea</td>\n      <td>PF</td>\n      <td>-23.1203</td>\n      <td>-134.9692</td>\n      <td>74.21</td>\n      <td>74</td>\n      <td>100</td>\n      <td>6.24</td>\n      <td>overcast clouds</td>\n    </tr>\n    <tr>\n      <th>3</th>\n      <td>Klaksvik</td>\n      <td>FO</td>\n      <td>62.2266</td>\n      <td>-6.5890</td>\n      <td>52.72</td>\n      <td>85</td>\n      <td>100</td>\n      <td>12.26</td>\n      <td>overcast clouds</td>\n    </tr>\n    <tr>\n      <th>4</th>\n      <td>Lagoa</td>\n      <td>PT</td>\n      <td>39.0500</td>\n      <td>-27.9833</td>\n      <td>68.58</td>\n      <td>76</td>\n      <td>100</td>\n      <td>16.31</td>\n      <td>overcast clouds</td>\n    </tr>\n    <tr>\n      <th>...</th>\n      <td>...</td>\n      <td>...</td>\n      <td>...</td>\n      <td>...</td>\n      <td>...</td>\n      <td>...</td>\n      <td>...</td>\n      <td>...</td>\n      <td>...</td>\n    </tr>\n    <tr>\n      <th>672</th>\n      <td>Tezu</td>\n      <td>IN</td>\n      <td>27.9167</td>\n      <td>96.1667</td>\n      <td>88.38</td>\n      <td>70</td>\n      <td>75</td>\n      <td>2.06</td>\n      <td>broken clouds</td>\n    </tr>\n    <tr>\n      <th>673</th>\n      <td>Jatibonico</td>\n      <td>CU</td>\n      <td>21.9419</td>\n      <td>-79.1700</td>\n      <td>72.75</td>\n      <td>83</td>\n      <td>100</td>\n      <td>3.20</td>\n      <td>light rain</td>\n    </tr>\n    <tr>\n      <th>674</th>\n      <td>Villamontes</td>\n      <td>BO</td>\n      <td>-21.2500</td>\n      <td>-63.5000</td>\n      <td>71.47</td>\n      <td>64</td>\n      <td>2</td>\n      <td>1.21</td>\n      <td>clear sky</td>\n    </tr>\n    <tr>\n      <th>675</th>\n      <td>Galle</td>\n      <td>LK</td>\n      <td>6.0367</td>\n      <td>80.2170</td>\n      <td>81.66</td>\n      <td>82</td>\n      <td>99</td>\n      <td>15.73</td>\n      <td>overcast clouds</td>\n    </tr>\n    <tr>\n      <th>676</th>\n      <td>Kisanga</td>\n      <td>TZ</td>\n      <td>-7.4362</td>\n      <td>37.7034</td>\n      <td>78.80</td>\n      <td>59</td>\n      <td>67</td>\n      <td>4.43</td>\n      <td>broken clouds</td>\n    </tr>\n  </tbody>\n</table>\n<p>677 rows × 9 columns</p>\n</div>",
      "text/plain": "            City Country      Lat       Lng  Max Temp  Humidity  Cloudiness  \\\n0          Kathu      TH   7.9178   98.3332     87.62        63          57   \n1      Mahebourg      MU -20.4081   57.7000     74.25        56          40   \n2        Rikitea      PF -23.1203 -134.9692     74.21        74         100   \n3       Klaksvik      FO  62.2266   -6.5890     52.72        85         100   \n4          Lagoa      PT  39.0500  -27.9833     68.58        76         100   \n..           ...     ...      ...       ...       ...       ...         ...   \n672         Tezu      IN  27.9167   96.1667     88.38        70          75   \n673   Jatibonico      CU  21.9419  -79.1700     72.75        83         100   \n674  Villamontes      BO -21.2500  -63.5000     71.47        64           2   \n675        Galle      LK   6.0367   80.2170     81.66        82          99   \n676      Kisanga      TZ  -7.4362   37.7034     78.80        59          67   \n\n     Wind Speed Current Description  \n0          5.28       broken clouds  \n1         12.66    scattered clouds  \n2          6.24     overcast clouds  \n3         12.26     overcast clouds  \n4         16.31     overcast clouds  \n..          ...                 ...  \n672        2.06       broken clouds  \n673        3.20          light rain  \n674        1.21           clear sky  \n675       15.73     overcast clouds  \n676        4.43       broken clouds  \n\n[677 rows x 9 columns]"
     },
     "execution_count": 36,
     "metadata": {},
     "output_type": "execute_result"
    }
   ],
   "source": [
    "# Add city_data dictionaries to a DataFrame\n",
    "city_data_df = pd.DataFrame(city_data)\n",
    "city_data_df"
   ]
  },
  {
   "cell_type": "code",
   "execution_count": 38,
   "metadata": {},
   "outputs": [],
   "source": [
    "# Save city_data_df as a CSV file\n",
    "output_data_file = \"WeatherPy_Database.csv\"\n",
    "city_data_df.to_csv(output_data_file, index_label=\"City_ID\")"
   ]
  }
 ],
 "metadata": {
  "kernelspec": {
   "display_name": "PythonData",
   "name": "pythondata"
  },
  "language_info": {
   "codemirror_mode": {
    "name": "ipython",
    "version": 3
   },
   "file_extension": ".py",
   "mimetype": "text/x-python",
   "name": "python",
   "nbconvert_exporter": "python",
   "pygments_lexer": "ipython3",
   "version": "3.7.10"
  },
  "orig_nbformat": 2
 },
 "nbformat": 4,
 "nbformat_minor": 2
}