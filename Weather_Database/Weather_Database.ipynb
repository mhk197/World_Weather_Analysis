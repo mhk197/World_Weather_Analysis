{
 "cells": [
  {
   "cell_type": "code",
   "execution_count": 1,
   "metadata": {},
   "outputs": [],
   "source": [
    "# Import dependencies\n",
    "import requests\n",
    "import numpy as np\n",
    "import pandas as pd\n",
    "from citipy import citipy\n",
    "\n",
    "# Import OpenWeatherMap API key\n",
    "from config import weather_api_key"
   ]
  },
  {
   "cell_type": "code",
   "execution_count": 2,
   "metadata": {},
   "outputs": [],
   "source": [
    "# Create set of 2,000 random latitudes and longitudes\n",
    "lats = np.random.uniform(-90, 90, size = 2000)\n",
    "lngs = np.random.uniform(-180, 180, size = 2000)\n",
    "lats_lngs = zip(lats,lngs)\n",
    "coords = list(lats_lngs)"
   ]
  },
  {
   "cell_type": "code",
   "execution_count": 4,
   "metadata": {},
   "outputs": [],
   "source": [
    "# Get nearest city with citipy module\n",
    "cities = []\n",
    "for coord in coords:\n",
    "    city = citipy.nearest_city(coord[0],coord[1]).city_name\n",
    "\n",
    "    if city not in cities:\n",
    "        cities.append(city)"
   ]
  },
  {
   "cell_type": "code",
   "execution_count": 5,
   "metadata": {},
   "outputs": [],
   "source": [
    "# Construct base url to access city weather from OpenWeatherMap API\n",
    "url = \"http://api.openweathermap.org/data/2.5/weather?units=Imperial&APPID=\" + weather_api_key"
   ]
  },
  {
   "cell_type": "code",
   "execution_count": 9,
   "metadata": {},
   "outputs": [
    {
     "name": "stdout",
     "output_type": "stream",
     "text": [
      "City not found. Skipping...\n",
      "City not found. Skipping...\n",
      "City not found. Skipping...\n",
      "City not found. Skipping...\n",
      "City not found. Skipping...\n",
      "City not found. Skipping...\n",
      "City not found. Skipping...\n",
      "City not found. Skipping...\n",
      "City not found. Skipping...\n",
      "City not found. Skipping...\n",
      "City not found. Skipping...\n",
      "City not found. Skipping...\n",
      "City not found. Skipping...\n",
      "City not found. Skipping...\n",
      "City not found. Skipping...\n",
      "City not found. Skipping...\n",
      "City not found. Skipping...\n",
      "City not found. Skipping...\n",
      "City not found. Skipping...\n",
      "City not found. Skipping...\n",
      "City not found. Skipping...\n",
      "City not found. Skipping...\n",
      "City not found. Skipping...\n",
      "City not found. Skipping...\n",
      "City not found. Skipping...\n",
      "City not found. Skipping...\n",
      "City not found. Skipping...\n",
      "City not found. Skipping...\n",
      "City not found. Skipping...\n",
      "City not found. Skipping...\n",
      "City not found. Skipping...\n",
      "City not found. Skipping...\n",
      "City not found. Skipping...\n",
      "City not found. Skipping...\n",
      "City not found. Skipping...\n",
      "City not found. Skipping...\n",
      "City not found. Skipping...\n",
      "City not found. Skipping...\n",
      "City not found. Skipping...\n",
      "City not found. Skipping...\n",
      "City not found. Skipping...\n",
      "City not found. Skipping...\n",
      "City not found. Skipping...\n",
      "City not found. Skipping...\n",
      "City not found. Skipping...\n",
      "City not found. Skipping...\n",
      "City not found. Skipping...\n",
      "City not found. Skipping...\n",
      "City not found. Skipping...\n",
      "City not found. Skipping...\n",
      "City not found. Skipping...\n",
      "City not found. Skipping...\n",
      "City not found. Skipping...\n",
      "City not found. Skipping...\n",
      "City not found. Skipping...\n",
      "City not found. Skipping...\n",
      "City not found. Skipping...\n",
      "City not found. Skipping...\n",
      "City not found. Skipping...\n",
      "City not found. Skipping...\n",
      "City not found. Skipping...\n",
      "City not found. Skipping...\n",
      "City not found. Skipping...\n",
      "City not found. Skipping...\n",
      "City not found. Skipping...\n",
      "City not found. Skipping...\n",
      "City not found. Skipping...\n",
      "City not found. Skipping...\n",
      "City not found. Skipping...\n",
      "City not found. Skipping...\n",
      "City not found. Skipping...\n",
      "City not found. Skipping...\n",
      "City not found. Skipping...\n",
      "City not found. Skipping...\n",
      "City not found. Skipping...\n"
     ]
    }
   ],
   "source": [
    "# Retrive info from OpenWeatherMap API call\n",
    "\n",
    "# Initialize list to contain city weather data\n",
    "city_data = []\n",
    "\n",
    "# Fill city_data list\n",
    "for i, city in enumerate(cities):\n",
    "\n",
    "    # Construct url to access weather data for each city\n",
    "    city_url = url + \"&q=\" + city.replace(\" \",\"+\")\n",
    "\n",
    "    try:\n",
    "\n",
    "        # Retrieve JSON data\n",
    "        city_weather = requests.get(city_url).json()\n",
    "\n",
    "        # Parse city data\n",
    "        city_lat = city_weather[\"coord\"][\"lat\"]\n",
    "        city_lon = city_weather[\"coord\"][\"lon\"]\n",
    "        city_max_temp = city_weather[\"main\"][\"temp_max\"]\n",
    "        city_humidity = city_weather[\"main\"][\"humidity\"]\n",
    "        city_clouds = city_weather[\"clouds\"][\"all\"]\n",
    "        city_wind = city_weather[\"wind\"][\"speed\"]\n",
    "        city_description = city_weather[\"weather\"][0][\"description\"]\n",
    "        city_country = city_weather[\"sys\"][\"country\"]\n",
    "        \n",
    "        # Append data to city_data list\n",
    "        city_data.append({\"City\": city.title(),\n",
    "                          \"Country\": city_country,\n",
    "                          \"Lat\": city_lat,\n",
    "                          \"Lng\": city_lon,\n",
    "                          \"Max Temp\": city_max_temp,\n",
    "                          \"Humidity\": city_humidity,\n",
    "                          \"Cloudiness\": city_clouds,\n",
    "                          \"Wind Speed\": city_wind,\n",
    "                          \"Current Description\": city_description})\n",
    "\n",
    "    # If error encountered in retrieving city weather data, log and continue\n",
    "    except:\n",
    "        print(\"City not found. Skipping...\")\n",
    "        pass"
   ]
  },
  {
   "cell_type": "code",
   "execution_count": 10,
   "metadata": {},
   "outputs": [
    {
     "data": {
      "text/html": "<div>\n<style scoped>\n    .dataframe tbody tr th:only-of-type {\n        vertical-align: middle;\n    }\n\n    .dataframe tbody tr th {\n        vertical-align: top;\n    }\n\n    .dataframe thead th {\n        text-align: right;\n    }\n</style>\n<table border=\"1\" class=\"dataframe\">\n  <thead>\n    <tr style=\"text-align: right;\">\n      <th></th>\n      <th>City</th>\n      <th>Country</th>\n      <th>Lat</th>\n      <th>Lng</th>\n      <th>Max Temp</th>\n      <th>Humidity</th>\n      <th>Cloudiness</th>\n      <th>Wind Speed</th>\n      <th>Current Description</th>\n    </tr>\n  </thead>\n  <tbody>\n    <tr>\n      <th>0</th>\n      <td>Baldeo</td>\n      <td>IN</td>\n      <td>27.4167</td>\n      <td>77.8167</td>\n      <td>83.05</td>\n      <td>73</td>\n      <td>29</td>\n      <td>6.69</td>\n      <td>scattered clouds</td>\n    </tr>\n    <tr>\n      <th>1</th>\n      <td>Kyzyl-Suu</td>\n      <td>KG</td>\n      <td>42.3414</td>\n      <td>78.0056</td>\n      <td>51.08</td>\n      <td>64</td>\n      <td>0</td>\n      <td>3.60</td>\n      <td>clear sky</td>\n    </tr>\n    <tr>\n      <th>2</th>\n      <td>Albany</td>\n      <td>US</td>\n      <td>42.6001</td>\n      <td>-73.9662</td>\n      <td>75.31</td>\n      <td>67</td>\n      <td>82</td>\n      <td>1.01</td>\n      <td>broken clouds</td>\n    </tr>\n    <tr>\n      <th>3</th>\n      <td>Bredasdorp</td>\n      <td>ZA</td>\n      <td>-34.5322</td>\n      <td>20.0403</td>\n      <td>56.52</td>\n      <td>77</td>\n      <td>15</td>\n      <td>5.75</td>\n      <td>few clouds</td>\n    </tr>\n    <tr>\n      <th>4</th>\n      <td>Cidreira</td>\n      <td>BR</td>\n      <td>-30.1811</td>\n      <td>-50.2056</td>\n      <td>71.01</td>\n      <td>79</td>\n      <td>0</td>\n      <td>10.47</td>\n      <td>clear sky</td>\n    </tr>\n    <tr>\n      <th>...</th>\n      <td>...</td>\n      <td>...</td>\n      <td>...</td>\n      <td>...</td>\n      <td>...</td>\n      <td>...</td>\n      <td>...</td>\n      <td>...</td>\n      <td>...</td>\n    </tr>\n    <tr>\n      <th>670</th>\n      <td>Red Bank</td>\n      <td>US</td>\n      <td>40.3471</td>\n      <td>-74.0643</td>\n      <td>82.92</td>\n      <td>40</td>\n      <td>1</td>\n      <td>7.00</td>\n      <td>clear sky</td>\n    </tr>\n    <tr>\n      <th>671</th>\n      <td>Odweyne</td>\n      <td>SO</td>\n      <td>9.4092</td>\n      <td>45.0640</td>\n      <td>83.37</td>\n      <td>27</td>\n      <td>87</td>\n      <td>3.80</td>\n      <td>overcast clouds</td>\n    </tr>\n    <tr>\n      <th>672</th>\n      <td>Mazyr</td>\n      <td>BY</td>\n      <td>52.0495</td>\n      <td>29.2456</td>\n      <td>45.73</td>\n      <td>87</td>\n      <td>41</td>\n      <td>6.17</td>\n      <td>scattered clouds</td>\n    </tr>\n    <tr>\n      <th>673</th>\n      <td>Mildura</td>\n      <td>AU</td>\n      <td>-34.2000</td>\n      <td>142.1500</td>\n      <td>56.07</td>\n      <td>57</td>\n      <td>87</td>\n      <td>11.10</td>\n      <td>light rain</td>\n    </tr>\n    <tr>\n      <th>674</th>\n      <td>Mahanoro</td>\n      <td>MG</td>\n      <td>-19.9000</td>\n      <td>48.8000</td>\n      <td>67.98</td>\n      <td>87</td>\n      <td>2</td>\n      <td>2.21</td>\n      <td>clear sky</td>\n    </tr>\n  </tbody>\n</table>\n<p>675 rows × 9 columns</p>\n</div>",
      "text/plain": "           City Country      Lat       Lng  Max Temp  Humidity  Cloudiness  \\\n0        Baldeo      IN  27.4167   77.8167     83.05        73          29   \n1     Kyzyl-Suu      KG  42.3414   78.0056     51.08        64           0   \n2        Albany      US  42.6001  -73.9662     75.31        67          82   \n3    Bredasdorp      ZA -34.5322   20.0403     56.52        77          15   \n4      Cidreira      BR -30.1811  -50.2056     71.01        79           0   \n..          ...     ...      ...       ...       ...       ...         ...   \n670    Red Bank      US  40.3471  -74.0643     82.92        40           1   \n671     Odweyne      SO   9.4092   45.0640     83.37        27          87   \n672       Mazyr      BY  52.0495   29.2456     45.73        87          41   \n673     Mildura      AU -34.2000  142.1500     56.07        57          87   \n674    Mahanoro      MG -19.9000   48.8000     67.98        87           2   \n\n     Wind Speed Current Description  \n0          6.69    scattered clouds  \n1          3.60           clear sky  \n2          1.01       broken clouds  \n3          5.75          few clouds  \n4         10.47           clear sky  \n..          ...                 ...  \n670        7.00           clear sky  \n671        3.80     overcast clouds  \n672        6.17    scattered clouds  \n673       11.10          light rain  \n674        2.21           clear sky  \n\n[675 rows x 9 columns]"
     },
     "execution_count": 10,
     "metadata": {},
     "output_type": "execute_result"
    }
   ],
   "source": [
    "# Add city_data dictionaries to a DataFrame\n",
    "city_data_df = pd.DataFrame(city_data)\n",
    "city_data_df"
   ]
  },
  {
   "cell_type": "code",
   "execution_count": 8,
   "metadata": {},
   "outputs": [],
   "source": [
    "# Save city_data_df as a CSV file\n",
    "output_data_file = \"WeatherPy_Database.csv\"\n",
    "city_data_df.to_csv(output_data_file, index_label=\"City_ID\")"
   ]
  }
 ],
 "metadata": {
  "kernelspec": {
   "display_name": "PythonData",
   "language": "python",
   "name": "pythondata"
  },
  "language_info": {
   "codemirror_mode": {
    "name": "ipython",
    "version": 3
   },
   "file_extension": ".py",
   "mimetype": "text/x-python",
   "name": "python",
   "nbconvert_exporter": "python",
   "pygments_lexer": "ipython3",
   "version": "3.7.10"
  },
  "orig_nbformat": 2
 },
 "nbformat": 4,
 "nbformat_minor": 2
}