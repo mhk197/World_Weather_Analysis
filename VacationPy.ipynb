{
 "cells": [
  {
   "cell_type": "code",
   "execution_count": 2,
   "metadata": {},
   "outputs": [],
   "source": [
    "# Import dependendencies\n",
    "import gmaps\n",
    "import pandas as pd\n",
    "import requests\n",
    "\n",
    "#Import API key\n",
    "from config import g_key"
   ]
  },
  {
   "cell_type": "code",
   "execution_count": 5,
   "metadata": {},
   "outputs": [
    {
     "data": {
      "text/plain": "City_ID         int64\nCity           object\nCountry        object\nDate           object\nLat           float64\nLng           float64\nMax Temp      float64\nHumidity        int64\nCloudiness      int64\nWind Speed    float64\ndtype: object"
     },
     "execution_count": 5,
     "metadata": {},
     "output_type": "execute_result"
    }
   ],
   "source": [
    "# Read and store CSV file as df\n",
    "cityDataDF = pd.read_csv(\"weather_data/cities.csv\")\n",
    "cityDataDF.dtypes"
   ]
  },
  {
   "cell_type": "code",
   "execution_count": 6,
   "metadata": {},
   "outputs": [],
   "source": [
    "# Configure gmaps to use API key\n",
    "gmaps.configure(api_key=g_key)"
   ]
  },
  {
   "cell_type": "code",
   "execution_count": 14,
   "metadata": {},
   "outputs": [
    {
     "data": {
      "application/vnd.jupyter.widget-view+json": {
       "model_id": "27fb820ce02b4bbd91f6ffd6c421f2be",
       "version_major": 2,
       "version_minor": 0
      },
      "text/plain": "Figure(layout=FigureLayout(height='420px'))"
     },
     "metadata": {
      "transient": {}
     },
     "output_type": "display_data"
    }
   ],
   "source": [
    "# Heatmap of temperature\n",
    "locations = cityDataDF[[\"Lat\",\"Lng\"]]\n",
    "maxTemp = cityDataDF[\"Max Temp\"]\n",
    "\n",
    "fig = gmaps.figure(center = (30.0,31.0), zoom_level=1.1)\n",
    "heat_layer = gmaps.heatmap_layer(locations, weights = [max(0,temp) for temp in maxTemp], dissipating= False, max_intensity=300, point_radius=4)\n",
    "fig.add_layer(heat_layer)\n",
    "\n",
    "fig"
   ]
  },
  {
   "cell_type": "code",
   "execution_count": 15,
   "metadata": {},
   "outputs": [
    {
     "data": {
      "application/vnd.jupyter.widget-view+json": {
       "model_id": "c392b0cf4622490888bd1612bbff8211",
       "version_major": 2,
       "version_minor": 0
      },
      "text/plain": "Figure(layout=FigureLayout(height='420px'))"
     },
     "metadata": {
      "transient": {}
     },
     "output_type": "display_data"
    }
   ],
   "source": [
    "# Heatmap of humidity\n",
    "locations = cityDataDF[[\"Lat\",\"Lng\"]]\n",
    "humidity = cityDataDF[\"Humidity\"]\n",
    "\n",
    "fig = gmaps.figure(center = (30.0,31.0), zoom_level=1.1)\n",
    "heat_layer = gmaps.heatmap_layer(locations, weights = humidity, dissipating= False, max_intensity=300, point_radius=4)\n",
    "fig.add_layer(heat_layer)\n",
    "\n",
    "fig"
   ]
  }
 ],
 "metadata": {
  "kernelspec": {
   "display_name": "PythonData",
   "name": "pythondata"
  },
  "language_info": {
   "codemirror_mode": {
    "name": "ipython",
    "version": 3
   },
   "file_extension": ".py",
   "mimetype": "text/x-python",
   "name": "python",
   "nbconvert_exporter": "python",
   "pygments_lexer": "ipython3",
   "version": "3.7.10"
  },
  "orig_nbformat": 2
 },
 "nbformat": 4,
 "nbformat_minor": 2
}