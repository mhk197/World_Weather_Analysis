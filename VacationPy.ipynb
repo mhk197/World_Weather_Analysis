{
 "cells": [
  {
   "cell_type": "code",
   "execution_count": 2,
   "metadata": {},
   "outputs": [],
   "source": [
    "# Import dependendencies\n",
    "import gmaps\n",
    "import pandas as pd\n",
    "import requests\n",
    "\n",
    "#Import API key\n",
    "from config import g_key"
   ]
  },
  {
   "cell_type": "code",
   "execution_count": 5,
   "metadata": {},
   "outputs": [
    {
     "data": {
      "text/plain": "City_ID         int64\nCity           object\nCountry        object\nDate           object\nLat           float64\nLng           float64\nMax Temp      float64\nHumidity        int64\nCloudiness      int64\nWind Speed    float64\ndtype: object"
     },
     "execution_count": 5,
     "metadata": {},
     "output_type": "execute_result"
    }
   ],
   "source": [
    "# Read and store CSV file as df\n",
    "cityDataDF = pd.read_csv(\"weather_data/cities.csv\")\n",
    "cityDataDF.dtypes"
   ]
  },
  {
   "cell_type": "code",
   "execution_count": 6,
   "metadata": {},
   "outputs": [],
   "source": [
    "# Configure gmaps to use API key\n",
    "gmaps.configure(api_key=g_key)"
   ]
  },
  {
   "cell_type": "code",
   "execution_count": 14,
   "metadata": {},
   "outputs": [
    {
     "data": {
      "application/vnd.jupyter.widget-view+json": {
       "model_id": "27fb820ce02b4bbd91f6ffd6c421f2be",
       "version_major": 2,
       "version_minor": 0
      },
      "text/plain": "Figure(layout=FigureLayout(height='420px'))"
     },
     "metadata": {
      "transient": {}
     },
     "output_type": "display_data"
    }
   ],
   "source": [
    "# Heatmap of temperature\n",
    "locations = cityDataDF[[\"Lat\",\"Lng\"]]\n",
    "maxTemp = cityDataDF[\"Max Temp\"]\n",
    "\n",
    "fig = gmaps.figure(center = (30.0,31.0), zoom_level=1.1)\n",
    "heat_layer = gmaps.heatmap_layer(locations, weights = [max(0,temp) for temp in maxTemp], dissipating= False, max_intensity=300, point_radius=4)\n",
    "fig.add_layer(heat_layer)\n",
    "\n",
    "fig"
   ]
  },
  {
   "cell_type": "code",
   "execution_count": 15,
   "metadata": {},
   "outputs": [
    {
     "data": {
      "application/vnd.jupyter.widget-view+json": {
       "model_id": "c392b0cf4622490888bd1612bbff8211",
       "version_major": 2,
       "version_minor": 0
      },
      "text/plain": "Figure(layout=FigureLayout(height='420px'))"
     },
     "metadata": {
      "transient": {}
     },
     "output_type": "display_data"
    }
   ],
   "source": [
    "# Heatmap of humidity\n",
    "locations = cityDataDF[[\"Lat\",\"Lng\"]]\n",
    "humidity = cityDataDF[\"Humidity\"]\n",
    "\n",
    "fig = gmaps.figure(center = (30.0,31.0), zoom_level=1.1)\n",
    "heat_layer = gmaps.heatmap_layer(locations, weights = humidity, dissipating= False, max_intensity=300, point_radius=4)\n",
    "fig.add_layer(heat_layer)\n",
    "\n",
    "fig"
   ]
  },
  {
   "cell_type": "code",
   "execution_count": 39,
   "metadata": {},
   "outputs": [],
   "source": [
    "# Ask customer for max and min preferred temperature\n",
    "min_temp = float(input(\"What is the minimum temperature you would like for your trip? \"))\n",
    "max_temp = float(input(\"What is the maximum temperature you would like for your trip? \"))"
   ]
  },
  {
   "cell_type": "code",
   "execution_count": 40,
   "metadata": {},
   "outputs": [
    {
     "data": {
      "text/plain": "City_ID       123\nCity          123\nCountry       123\nDate          123\nLat           123\nLng           123\nMax Temp      123\nHumidity      123\nCloudiness    123\nWind Speed    123\ndtype: int64"
     },
     "execution_count": 40,
     "metadata": {},
     "output_type": "execute_result"
    }
   ],
   "source": [
    "# Filter dataset to find cities that meet the criteria\n",
    "preferred_cities_df = cityDataDF.loc[(cityDataDF[\"Max Temp\"] >= min_temp) & (cityDataDF[\"Max Temp\"] <= max_temp)]\n",
    "preferred_cities_df.count()"
   ]
  },
  {
   "cell_type": "code",
   "execution_count": 41,
   "metadata": {},
   "outputs": [
    {
     "data": {
      "text/html": "<div>\n<style scoped>\n    .dataframe tbody tr th:only-of-type {\n        vertical-align: middle;\n    }\n\n    .dataframe tbody tr th {\n        vertical-align: top;\n    }\n\n    .dataframe thead th {\n        text-align: right;\n    }\n</style>\n<table border=\"1\" class=\"dataframe\">\n  <thead>\n    <tr style=\"text-align: right;\">\n      <th></th>\n      <th>City</th>\n      <th>Country</th>\n      <th>Max Temp</th>\n      <th>Lat</th>\n      <th>Lng</th>\n      <th>Hotel Name</th>\n    </tr>\n  </thead>\n  <tbody>\n    <tr>\n      <th>1</th>\n      <td>Laguna</td>\n      <td>US</td>\n      <td>98.44</td>\n      <td>38.4210</td>\n      <td>-121.4238</td>\n      <td></td>\n    </tr>\n    <tr>\n      <th>2</th>\n      <td>Nanakuli</td>\n      <td>US</td>\n      <td>83.03</td>\n      <td>21.3906</td>\n      <td>-158.1547</td>\n      <td></td>\n    </tr>\n    <tr>\n      <th>5</th>\n      <td>Kapaa</td>\n      <td>US</td>\n      <td>82.72</td>\n      <td>22.0752</td>\n      <td>-159.3190</td>\n      <td></td>\n    </tr>\n    <tr>\n      <th>6</th>\n      <td>Porbandar</td>\n      <td>IN</td>\n      <td>80.46</td>\n      <td>21.6422</td>\n      <td>69.6093</td>\n      <td></td>\n    </tr>\n    <tr>\n      <th>10</th>\n      <td>Hamilton</td>\n      <td>US</td>\n      <td>81.88</td>\n      <td>39.1834</td>\n      <td>-84.5333</td>\n      <td></td>\n    </tr>\n    <tr>\n      <th>16</th>\n      <td>Dhidhdhoo</td>\n      <td>MV</td>\n      <td>81.99</td>\n      <td>6.8833</td>\n      <td>73.1000</td>\n      <td></td>\n    </tr>\n    <tr>\n      <th>21</th>\n      <td>Portland</td>\n      <td>US</td>\n      <td>85.10</td>\n      <td>45.5234</td>\n      <td>-122.6762</td>\n      <td></td>\n    </tr>\n    <tr>\n      <th>26</th>\n      <td>Hithadhoo</td>\n      <td>MV</td>\n      <td>82.49</td>\n      <td>-0.6000</td>\n      <td>73.0833</td>\n      <td></td>\n    </tr>\n    <tr>\n      <th>31</th>\n      <td>Riyadh</td>\n      <td>SA</td>\n      <td>93.34</td>\n      <td>24.6877</td>\n      <td>46.7219</td>\n      <td></td>\n    </tr>\n    <tr>\n      <th>32</th>\n      <td>Amapa</td>\n      <td>BR</td>\n      <td>85.62</td>\n      <td>1.0000</td>\n      <td>-52.0000</td>\n      <td></td>\n    </tr>\n  </tbody>\n</table>\n</div>",
      "text/plain": "         City Country  Max Temp      Lat       Lng Hotel Name\n1      Laguna      US     98.44  38.4210 -121.4238           \n2    Nanakuli      US     83.03  21.3906 -158.1547           \n5       Kapaa      US     82.72  22.0752 -159.3190           \n6   Porbandar      IN     80.46  21.6422   69.6093           \n10   Hamilton      US     81.88  39.1834  -84.5333           \n16  Dhidhdhoo      MV     81.99   6.8833   73.1000           \n21   Portland      US     85.10  45.5234 -122.6762           \n26  Hithadhoo      MV     82.49  -0.6000   73.0833           \n31     Riyadh      SA     93.34  24.6877   46.7219           \n32      Amapa      BR     85.62   1.0000  -52.0000           "
     },
     "execution_count": 41,
     "metadata": {},
     "output_type": "execute_result"
    }
   ],
   "source": [
    "# Create DataFrame called hotel_df to store hotel names along with city, country, max temp, and coordinates\n",
    "hotel_df = preferred_cities_df[[\"City\", \"Country\", \"Max Temp\", \"Lat\", \"Lng\"]].copy()\n",
    "hotel_df[\"Hotel Name\"] = \"\"\n",
    "hotel_df.head(10)"
   ]
  },
  {
   "cell_type": "code",
   "execution_count": 42,
   "metadata": {},
   "outputs": [
    {
     "name": "stdout",
     "output_type": "stream",
     "text": [
      "Hotel not found...skipping\n",
      "Hotel not found...skipping\n",
      "Hotel not found...skipping\n",
      "Hotel not found...skipping\n",
      "Hotel not found...skipping\n",
      "Hotel not found...skipping\n",
      "Hotel not found...skipping\n",
      "Hotel not found...skipping\n",
      "Hotel not found...skipping\n",
      "Hotel not found...skipping\n",
      "Hotel not found...skipping\n",
      "Hotel not found...skipping\n",
      "Hotel not found...skipping\n"
     ]
    }
   ],
   "source": [
    "# Set params to search for hotel\n",
    "params = {\n",
    "    \"radius\": 5000,\n",
    "    \"types\": \"lodging\",\n",
    "    \"key\": g_key,\n",
    "    \"location\": \"\"\n",
    "}\n",
    "\n",
    "# Iterate through hotel_df to find hotels\n",
    "for index,row in hotel_df.iterrows():\n",
    "    # Get latitude and longitude\n",
    "    lat = row[\"Lat\"]\n",
    "    lng = row[\"Lng\"]\n",
    "\n",
    "    # Add the latitude and longitude to location key for the params dictionary.\n",
    "    params[\"location\"] = f\"{lat},{lng}\"\n",
    "\n",
    "    # Use the search term: \"lodging\" and our latitude and longitude.\n",
    "    base_url = \"https://maps.googleapis.com/maps/api/place/nearbysearch/json\"\n",
    "    \n",
    "    # Make request and get the JSON data from the search.\n",
    "    hotels = requests.get(base_url, params=params).json()\n",
    "\n",
    "    # Grab the first hotel from the results and store the name.\n",
    "    try:\n",
    "        hotel_df.loc[index, \"Hotel Name\"] = hotels[\"results\"][0][\"name\"]\n",
    "    except (IndexError):\n",
    "        print(\"Hotel not found...skipping\")\n"
   ]
  },
  {
   "cell_type": "code",
   "execution_count": 45,
   "metadata": {},
   "outputs": [],
   "source": [
    "info_box_template = \"\"\"\n",
    "<dl>\n",
    "<dt>Hotel Name</dt><dd>{Hotel Name}</dd>\n",
    "<dt>City</dt><dd>{City}</dd>\n",
    "<dt>Country</dt><dd>{Country}</dd>\n",
    "<dt>Max Temp</dt><dd>{Max Temp} °F</dd>\n",
    "</dl>\n",
    "\"\"\"\n",
    "# Store the DataFrame Row.\n",
    "hotel_info = [info_box_template.format(**row) for index, row in hotel_df.iterrows()]"
   ]
  },
  {
   "cell_type": "code",
   "execution_count": 46,
   "metadata": {},
   "outputs": [
    {
     "data": {
      "application/vnd.jupyter.widget-view+json": {
       "model_id": "aad82e1bcb8a4689b716175a5389ab91",
       "version_major": 2,
       "version_minor": 0
      },
      "text/plain": "Figure(layout=FigureLayout(height='420px'))"
     },
     "metadata": {
      "transient": {}
     },
     "output_type": "display_data"
    }
   ],
   "source": [
    "# Add a heatmap of temperature for the vacation spots.\n",
    "locations = hotel_df[[\"Lat\", \"Lng\"]]\n",
    "max_temp = hotel_df[\"Max Temp\"]\n",
    "fig = gmaps.figure(center=(30.0, 31.0), zoom_level=1.5)\n",
    "heat_layer = gmaps.heatmap_layer(locations, weights=max_temp, dissipating=False,\n",
    "             max_intensity=300, point_radius=4)\n",
    "marker_layer = gmaps.marker_layer(locations,info_box_content=hotel_info)\n",
    "\n",
    "fig.add_layer(heat_layer)\n",
    "fig.add_layer(marker_layer)\n",
    "# Call the figure to plot the data.\n",
    "fig"
   ]
  }
 ],
 "metadata": {
  "kernelspec": {
   "display_name": "PythonData",
   "name": "pythondata"
  },
  "language_info": {
   "codemirror_mode": {
    "name": "ipython",
    "version": 3
   },
   "file_extension": ".py",
   "mimetype": "text/x-python",
   "name": "python",
   "nbconvert_exporter": "python",
   "pygments_lexer": "ipython3",
   "version": "3.7.10"
  },
  "orig_nbformat": 2
 },
 "nbformat": 4,
 "nbformat_minor": 2
}